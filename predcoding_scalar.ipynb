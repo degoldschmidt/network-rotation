{
 "cells": [
  {
   "cell_type": "markdown",
   "metadata": {},
   "source": [
    "# Predictive coding in a single spiking neuron\n",
    "\n",
    "In this example, we derive dynamical equations for predictive coding in a single spiking neuron [[1]](#refs). "
   ]
  },
  {
   "cell_type": "markdown",
   "metadata": {},
   "source": [
    "## Derivation\n",
    "\n",
    "### Spiking mechanism as greedy minimization of squared-error loss function\n",
    "\n",
    "The equations are based on two assumptions:\n",
    "\n",
    "1. A time-dependent signal $x(t)$ is represented by a readout $y(t)$, which is a linear decoder by filtering the neuron's spike train $o(t)$ using the following equation:\n",
    "\n",
    "    \\begin{align}\n",
    "        \\dot{y}(t) = - y(t) + D o(t), \n",
    "    \\end{align}\n",
    "    \n",
    "    where $D>0$ is a readout weight, and $o(t)=\\sum_k \\delta(t-t_k)$ is the sum of Dirac functions with spike times $\\{t_k\\}$.\n",
    "2. The firing of the neuron is determined by minimizing a loss function defined by the squared error of $x(t)$ and $y(t)$:\n",
    "\n",
    "    \\begin{align}\n",
    "        L(t) = \\left(x(t) - y(t)\\right)^2\n",
    "    \\end{align}\n",
    "\n",
    "Each emitted spike minimizes $L(t)$ and consequently increases the readout by $D$. Thus,\n",
    "\n",
    "\\begin{align}\n",
    "    L(t\\,|\\,\\text{spike}) &< L(t\\,|\\,\\text{no spike}) \\\\\n",
    "    \\Leftrightarrow \\left(x(t) - (y(t)+D)\\right)^2 &< \\left(x(t) - y(t)\\right)^2 \\\\\n",
    "    \\Leftrightarrow D^2-2Dx(t)+2Dy(t) &< 0 \\\\\n",
    "    \\Leftrightarrow D\\left( x(t) - y(t) \\right) &> \\frac{D^2}{2} \n",
    "\\end{align}\n",
    "\n",
    "Finally, we interpret the left side as the membrane potential $V(t)$ of the neuron and the right side as the spiking threshold $\\Theta$. Spike times $\\{t_k\\}$ are therefore defined as\n",
    "\n",
    "\\begin{align}\n",
    "     t_k:\\, V(t_k) > \\Theta.\n",
    "\\end{align}\n",
    "\n",
    "The membrane potential is proportional to the prediction error between the signal $x(t)$ and the readout $y(t)$.\n",
    " \n",
    "### Differentiating membrane potential leads to integrate-and-fire dynamics\n",
    "\n",
    "Differentiating $V(t)$ with respect to time leads to\n",
    "\n",
    "\\begin{align}\n",
    "    \\dot{V}(t) &= D\\left(\\dot{x}(t) + \\dot{y}(t)\\right) \\\\\n",
    "            &= D\\left(\\dot{x}(t) - (- y(t) - Do(t))\\right) \\\\\n",
    "            &= D\\dot{x}(t) + Dy(t) - D^2o(t) \\\\\n",
    "            &= -D(x(t)-y(t)) + D(\\dot{x}(t)+x(t)) - D^2o(t) \\\\\n",
    "            &= -V(t) + Dc(t) - D^2 o(t),\n",
    "\\end{align}\n",
    "\n",
    "which describe leaky integrate-and-fire dynamics with a excitatory feed-forward connection $D$ from the input signal $c(t)\\equiv\\dot{x}+x(t)$ and an inhibitory self-recurrent connection $D^2$."
   ]
  },
  {
   "cell_type": "markdown",
   "metadata": {
    "variables": {
     "D": "0.05",
     "T": "20",
     "a": "1.0",
     "dt": "1e-05"
    }
   },
   "source": [
    "## Numerical integration of the differential equation using Euler algorithm\n",
    "\n",
    "In the following, we will simulate the neuron dynamics for a time interval of $t=$ {{T}} (a.u.) using a step size of $\\Delta t =$ {{dt}}. The differential equations are numerically solved with the Euler algorithm:\n",
    "\n",
    "\\begin{align}\n",
    "    x_{t} = x_{t-1} + \\Delta t \\cdot \\dot{x}_{t-1}.\n",
    "\\end{align}\n",
    "\n",
    "The input signal $x(t)$ is set to a constant value $a=$ {{a}} and the readout weight $D=$ {{D}}. Since we defined the spike train as a sum of Dirac functions $\\int \\delta(t) dt = 1$, we numerically approximate them as square pulses\n",
    "\n",
    "\\begin{align}\n",
    "    \\delta(t) \\approx \\begin{cases} \\frac{1}{\\Delta t} & \\text{if } 0<t<\\Delta t, \\\\ 0 & \\text{otherwise.} \\end{cases}\n",
    "\\end{align}\n",
    "\n",
    "Thus, spike trains are defined in terms of unit pulses\n",
    "\n",
    "\\begin{align}\n",
    "    \\sum_k \\delta(t-t_k) = \\frac{1}{\\Delta t}\\delta\\left[\\frac{t-t_k}{\\Delta t}\\right] = \\frac{1}{\\Delta t}\\delta[n-n_k],\n",
    "\\end{align}\n",
    "\n",
    "where $n$ is the iteration step."
   ]
  },
  {
   "cell_type": "markdown",
   "metadata": {},
   "source": [
    "## Simulation code"
   ]
  },
  {
   "cell_type": "code",
   "execution_count": 28,
   "metadata": {
    "ExecuteTime": {
     "end_time": "2016-09-27T12:33:24.921026",
     "start_time": "2016-09-27T12:33:22.797172"
    },
    "collapsed": false
   },
   "outputs": [
    {
     "name": "stdout",
     "output_type": "stream",
     "text": [
      "22.0\n",
      "21.9452071267\n"
     ]
    }
   ],
   "source": [
    "import numpy as np\n",
    "import matplotlib.pyplot as plt\n",
    "from matplotlib.legend_handler import HandlerLine2D\n",
    "%matplotlib inline\n",
    "\n",
    "\" Parameters/container definitions \"\n",
    "T        = 20                     # Total duration\n",
    "dt       = 0.0001                 # Integration time step        \n",
    "time     = np.arange(0, T+dt, dt) # Time array        \n",
    "V        = np.zeros(len(time))    # Membrane potential\n",
    "a        = 1.0                    # Input amplitude\n",
    "x        = a*np.ones(len(time))   # Input\n",
    "hns      = int((T/dt)/2)          # Number of time steps for offset\n",
    "x[0:hns] = 0.                     # Offset\n",
    "y        = np.zeros(len(time))    # Decoder\n",
    "o        = np.zeros(len(time))    # Spikes\n",
    "st       = []                     # Spike times\n",
    "rate     = np.zeros(len(time))    # Firing rate\n",
    "D        = 0.05                   # Readout weights\n",
    "Thr      = (D**2)/2               # Threshold\n",
    "decay    = 1.0                    # Decay constant\n",
    "\n",
    "\" Voltage ODE \"\n",
    "def dV(i, spike):\n",
    "    return - decay * V[i] + D*(decay*x[i]+(x[i]-x[i-1])/dt) - D*D*spike/dt\n",
    "\n",
    "\" Decoder ODE \"\n",
    "def dy(i, spike):\n",
    "    return - decay*y[i] + D*spike/dt\n",
    "\n",
    "def dr(i, spike):\n",
    "    return - rate[i] + spike/dt\n",
    "\n",
    "def diff(a):\n",
    "    return [a[i+1]-a[i] for i in range(len(a)-1)]\n",
    "\n",
    "\" Update step \"\n",
    "def step(i):\n",
    "    if np.sum(o[i] > 0):\n",
    "        st.append(t)\n",
    "    \" Potential (Euler) \"\n",
    "    V[i+1] = V[i] + dt * dV(i, o[i])   \n",
    "    \" Check spikes \"    \n",
    "    o[i+1] = (V[i+1] > Thr)\n",
    "    \" Decoder (Euler) \"\n",
    "    y[i+1] = y[i] + dt * dy(i, o[i+1])\n",
    "    \" Estimate firing rate (Euler) \"\n",
    "    rate[i+1] = rate[i] + dt * dr(i, o[i+1])\n",
    "    \n",
    "\" Simulation \"\n",
    "for i,t in enumerate(time[:-1]):\n",
    "    step(i)\n",
    "print(np.sum(o)/(T/2))\n",
    "print(1./np.mean(diff(st)))"
   ]
  },
  {
   "cell_type": "markdown",
   "metadata": {},
   "source": [
    "## Analyzing the readout for a constant input\n",
    "\n"
   ]
  },
  {
   "cell_type": "code",
   "execution_count": 30,
   "metadata": {
    "ExecuteTime": {
     "end_time": "2016-09-27T12:35:21.062545",
     "start_time": "2016-09-27T12:35:20.284016"
    },
    "collapsed": false
   },
   "outputs": [
    {
     "data": {
      "image/png": "[encoded data removed]",
      "text/plain": [
       "<matplotlib.figure.Figure at 0x10a5c90f0>"
      ]
     },
     "metadata": {},
     "output_type": "display_data"
    }
   ],
   "source": [
    "\" Plotting signal, readout and membrane potential \"\n",
    "f, axarr = plt.subplots(3, sharex=True)\n",
    "axarr[0].plot(time, x, 'k-', label = '$x(t)$')\n",
    "axarr[0].plot(time, y, color='#cc1111', label='$y(t)$')\n",
    "axarr[0].set_ylim([-0.05, a+0.05])\n",
    "axarr[0].legend(loc=4)\n",
    "\n",
    "axarr[1].plot(time, V, color='#00cc66', label = '$V(t)$')\n",
    "axarr[1].plot([0,T],[Thr,Thr], color='#eeeeee')\n",
    "spikes, = axarr[1].plot(time[o[:]==1], Thr*o[o[:]==1], 'k.', markersize=4, label = 'spike')\n",
    "axarr[1].legend(handler_map={spikes: HandlerLine2D(numpoints=1)})\n",
    "axarr[1].legend()\n",
    "\n",
    "axarr[2].plot(time, rate, color='#0066cc', label = '$r(t)$')\n",
    "axarr[2].legend(loc=4)\n",
    "\n",
    "plt.xlabel(\"Time\")\n",
    "plt.show()"
   ]
  },
  {
   "cell_type": "code",
   "execution_count": 29,
   "metadata": {
    "ExecuteTime": {
     "end_time": "2016-09-27T12:35:17.636892",
     "start_time": "2016-09-27T12:35:16.779803"
    },
    "collapsed": false
   },
   "outputs": [
    {
     "data": {
      "image/png": "[encoded data removed]",
      "text/plain": [
       "<matplotlib.figure.Figure at 0x10cb35860>"
      ]
     },
     "metadata": {},
     "output_type": "display_data"
    }
   ],
   "source": [
    "\" Plotting signal, readout and membrane potential \"\n",
    "f, axarr = plt.subplots(3, sharex=True)\n",
    "axarr[0].plot(time, x, 'k-', label = '$x(t)$')\n",
    "axarr[0].plot(time, y, color='#cc1111', label='$y(t)$')\n",
    "axarr[0].set_ylim([-0.05, a+0.05])\n",
    "axarr[0].legend(loc=4)\n",
    "\n",
    "axarr[1].plot(time, V, color='#00cc66', label = '$V(t)$')\n",
    "axarr[1].plot([0,T],[Thr,Thr], color='#eeeeee')\n",
    "spikes, = axarr[1].plot(time[o[:]==1], Thr*o[o[:]==1], 'k.', markersize=4, label = 'spike')\n",
    "axarr[1].legend(handler_map={spikes: HandlerLine2D(numpoints=1)})\n",
    "\n",
    "axarr[2].plot(time, rate, color='#0066cc', label = '$r(t)$')\n",
    "axarr[2].legend(loc=4)\n",
    "\n",
    "plt.xlim([9.990, 10.400])\n",
    "plt.xlabel(\"Time\")\n",
    "plt.show()"
   ]
  },
  {
   "cell_type": "markdown",
   "metadata": {},
   "source": [
    "## How does the readout weight affect accuracy and firing rate\n",
    "\n",
    "Here, we vary the readout weight $D$ from $0.01$ to $1$ using increments of $0.01$. "
   ]
  },
  {
   "cell_type": "code",
   "execution_count": null,
   "metadata": {
    "ExecuteTime": {
     "end_time": "2016-09-27T12:17:14.521920",
     "start_time": "2016-09-27T11:17:00.822Z"
    },
    "collapsed": false
   },
   "outputs": [],
   "source": [
    "means = []\n",
    "rates = []\n",
    "Ds = []\n",
    "\" Goes through different values for D \"\n",
    "for trials in range(100):\n",
    "    D = 0.01 * (trials+1)\n",
    "    Ds.append(D)\n",
    "    V        = np.zeros(len(time))    # Membrane potential\n",
    "    y        = np.zeros(len(time))    # Decoder\n",
    "    o        = np.zeros(len(time))    # Spikes\n",
    "    rate     = np.zeros(len(time))    # Firing rate\n",
    "    st = []\n",
    "    for i,t in enumerate(time[:-1]):\n",
    "        step(i)\n",
    "    means.append(np.mean((x-y)**2))\n",
    "    rates.append(1./np.mean(diff(st))) # based on ISI\n",
    "    #print(\"D: %1.2f\\tInverse Mean ISI:%1.9f (%u samples)\" % (D, 1./np.mean(diff(st)), len(st)))\n",
    "minD = Ds[np.argmin(means)]\n",
    "print(\"Minimum error:\", np.min(means), \"at Gamma\", minD)"
   ]
  },
  {
   "cell_type": "code",
   "execution_count": null,
   "metadata": {
    "ExecuteTime": {
     "end_time": "2016-09-27T12:17:14.522153",
     "start_time": "2016-09-27T11:17:00.826Z"
    },
    "collapsed": false
   },
   "outputs": [],
   "source": [
    "\" Print/plot minimum error w.r.t. D \"\n",
    "f, axarr = plt.subplots(2, sharex=True)\n",
    "axarr[0].plot(Ds, means, color='#cc6600', label = '$<L(t)>$')\n",
    "axarr[0].legend()\n",
    "axarr[1].plot(Ds, rates, color='#0066cc', label = '$<r(t)>$')\n",
    "axarr[1].plot([minD, minD], [0.0, 1.0], 'r--')\n",
    "axarr[1].plot(Ds, 2./np.asarray(Ds), color='#cc66cc', label = '$1/D$')\n",
    "axarr[1].set_ylim((0.0,100.0))\n",
    "axarr[1].legend()\n",
    "plt.show()"
   ]
  },
  {
   "cell_type": "markdown",
   "metadata": {},
   "source": [
    "## References\n",
    "<a id='refs'></a>\n",
    "\n",
    "[1] Bourdoukan R, Barrett D, Deneve S, Machens CK. **Learning optimal spike-based representations.** In *Advances in neural information processing systems*, 2012 (pp. 2285-2293)."
   ]
  }
 ],
 "metadata": {
  "kernelspec": {
   "display_name": "Python 3",
   "language": "python",
   "name": "python3"
  },
  "language_info": {
   "codemirror_mode": {
    "name": "ipython",
    "version": 3
   },
   "file_extension": ".py",
   "mimetype": "text/x-python",
   "name": "python",
   "nbconvert_exporter": "python",
   "pygments_lexer": "ipython3",
   "version": "3.5.1"
  }
 },
 "nbformat": 4,
 "nbformat_minor": 1
}
